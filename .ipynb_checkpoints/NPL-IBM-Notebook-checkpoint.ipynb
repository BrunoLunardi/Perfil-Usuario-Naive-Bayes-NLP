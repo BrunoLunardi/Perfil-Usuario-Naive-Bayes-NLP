{
 "cells": [
  {
   "cell_type": "code",
   "execution_count": 1,
   "metadata": {},
   "outputs": [],
   "source": [
    "################################## Importações para trabalhar com watson IBM ##################################\n",
    "import json\n",
    "from ibm_watson import NaturalLanguageUnderstandingV1\n",
    "from ibm_cloud_sdk_core.authenticators import IAMAuthenticator\n",
    "from ibm_watson.natural_language_understanding_v1 import Features, EmotionOptions, SentimentOptions, KeywordsOptions\n",
    "\n",
    "# from botocore.client import Config\n",
    "# import ibm_boto3\n",
    "\n",
    "################################## Importações ##################################\n",
    "# import types \n",
    "import pandas as pd"
   ]
  },
  {
   "cell_type": "code",
   "execution_count": 2,
   "metadata": {},
   "outputs": [],
   "source": [
    "################################## Configurações serviço IBM ##################################\n",
    "#realiza autenticação com servidor IBM\n",
    "authenticator = IAMAuthenticator('LsRvjTiGO2hm5CmMOkYumONXX1x08ej0nZED2cRZYvqM')\n",
    "service = NaturalLanguageUnderstandingV1(\n",
    "    version='2020-08-01',\n",
    "    authenticator=authenticator\n",
    ")\n",
    "\n",
    "# #seleciona o serviço de processamento de linguagem natural\n",
    "service.set_service_url('https://api.us-south.natural-language-understanding.watson.cloud.ibm.com/instances/fe0885df-7c76-4192-9bc8-6c6d7ca836ae')"
   ]
  },
  {
   "cell_type": "code",
   "execution_count": 3,
   "metadata": {},
   "outputs": [],
   "source": [
    "\n",
    "################################## INÍCIO FUNÇÕES ##################################\n",
    "\n",
    "def sentiment_and_keyword(st,service=service):\n",
    "    \"\"\"\n",
    "    Função para fazer requisição com o servidor IBM e obter keywords e sentimento do texto a ser analisado\n",
    "    return: JSON com análises do texto informado\n",
    "    \"\"\"\n",
    "    return (service.analyze(text=st,features=Features(keywords=KeywordsOptions(sentiment= True,emotion= True,limit= 3),sentiment=SentimentOptions())).get_result())\n",
    "    \n",
    "\n",
    "\n",
    "def sentiment_extractor(row_num):\n",
    "    \"\"\"\n",
    "    Função para pegar o score do sentimento e colocar em uma nova coluna dataframe\n",
    "    return: score do sentimento\n",
    "    \"\"\"    \n",
    "    sentiment_scores=df2['sentiment_keyword_json'][row_num]['sentiment']['document']\n",
    "    return sentiment_scores\n",
    "\n",
    "\n",
    "def keyword_extractor(row_num):\n",
    "    \"\"\"\n",
    "    Função para pegar o score do keyword e colocar em uma nova coluna dataframe\n",
    "    return: score do keyword\n",
    "    \"\"\"        \n",
    "    keyword_scores=[{df2['sentiment_keyword_json'][row_num]['keywords'][i]['text'] : df2['sentiment_keyword_json'][row_num]['keywords'][i]['sentiment']['score']} for i in range(0,len(df2['sentiment_keyword_json'][row_num]['keywords']))]\n",
    "    return keyword_scores\n",
    "\n",
    "################################## FIM FUNÇÕES ##################################"
   ]
  },
  {
   "cell_type": "code",
   "execution_count": 4,
   "metadata": {},
   "outputs": [],
   "source": [
    "#leitura da base de dados\n",
    "df_data_1 = pd.read_csv('tokenised_dataset.csv')\n",
    "#print(df_data_1.head())\n",
    "\n",
    "#copiar 10 dados para testes\n",
    "df1 = df_data_1.head(10)\n",
    "# print(df1)"
   ]
  },
  {
   "cell_type": "code",
   "execution_count": 5,
   "metadata": {},
   "outputs": [
    {
     "name": "stderr",
     "output_type": "stream",
     "text": [
      "<ipython-input-5-1fe5fe97f847>:5: SettingWithCopyWarning: \n",
      "A value is trying to be set on a copy of a slice from a DataFrame.\n",
      "Try using .loc[row_indexer,col_indexer] = value instead\n",
      "\n",
      "See the caveats in the documentation: https://pandas.pydata.org/pandas-docs/stable/user_guide/indexing.html#returning-a-view-versus-a-copy\n",
      "  df1['sentiment_keyword_json'] = df1.apply(lambda row : sentiment_and_keyword(str(row['sentences'])),axis = 1)\n"
     ]
    }
   ],
   "source": [
    "#requisição com servidor\n",
    "#parâmetros:\n",
    "    #texto\n",
    "    #eixo para adicionar a coluna\n",
    "df1['sentiment_keyword_json'] = df1.apply(lambda row : sentiment_and_keyword(str(row['sentences'])),axis = 1)"
   ]
  },
  {
   "cell_type": "code",
   "execution_count": 6,
   "metadata": {},
   "outputs": [],
   "source": [
    "df2 = df1[['sentences','sentiment_keyword_json']]"
   ]
  },
  {
   "cell_type": "code",
   "execution_count": 20,
   "metadata": {},
   "outputs": [
    {
     "data": {
      "text/plain": [
       "'positive'"
      ]
     },
     "execution_count": 20,
     "metadata": {},
     "output_type": "execute_result"
    }
   ],
   "source": [
    "#obter somente o label\n",
    "df2['sentiment_keyword_json'][0]['sentiment']['document']['label']"
   ]
  },
  {
   "cell_type": "code",
   "execution_count": 21,
   "metadata": {},
   "outputs": [
    {
     "name": "stderr",
     "output_type": "stream",
     "text": [
      "<ipython-input-21-02e6da0f215d>:1: SettingWithCopyWarning: \n",
      "A value is trying to be set on a copy of a slice from a DataFrame.\n",
      "Try using .loc[row_indexer,col_indexer] = value instead\n",
      "\n",
      "See the caveats in the documentation: https://pandas.pydata.org/pandas-docs/stable/user_guide/indexing.html#returning-a-view-versus-a-copy\n",
      "  df2['sentiment_score'] = df2.apply(lambda row : sentiment_extractor(row.name),axis = 1)\n",
      "<ipython-input-21-02e6da0f215d>:2: SettingWithCopyWarning: \n",
      "A value is trying to be set on a copy of a slice from a DataFrame.\n",
      "Try using .loc[row_indexer,col_indexer] = value instead\n",
      "\n",
      "See the caveats in the documentation: https://pandas.pydata.org/pandas-docs/stable/user_guide/indexing.html#returning-a-view-versus-a-copy\n",
      "  df2['keyword_score'] = df2.apply(lambda row : keyword_extractor(row.name),axis = 1)\n"
     ]
    }
   ],
   "source": [
    "df2['sentiment_score'] = df2.apply(lambda row : sentiment_extractor(row.name),axis = 1)\n",
    "df2['keyword_score'] = df2.apply(lambda row : keyword_extractor(row.name),axis = 1)"
   ]
  },
  {
   "cell_type": "code",
   "execution_count": 22,
   "metadata": {},
   "outputs": [
    {
     "data": {
      "text/html": [
       "<div>\n",
       "<style scoped>\n",
       "    .dataframe tbody tr th:only-of-type {\n",
       "        vertical-align: middle;\n",
       "    }\n",
       "\n",
       "    .dataframe tbody tr th {\n",
       "        vertical-align: top;\n",
       "    }\n",
       "\n",
       "    .dataframe thead th {\n",
       "        text-align: right;\n",
       "    }\n",
       "</style>\n",
       "<table border=\"1\" class=\"dataframe\">\n",
       "  <thead>\n",
       "    <tr style=\"text-align: right;\">\n",
       "      <th></th>\n",
       "      <th>sentences</th>\n",
       "      <th>sentiment_keyword_json</th>\n",
       "      <th>sentiment_score</th>\n",
       "      <th>keyword_score</th>\n",
       "    </tr>\n",
       "  </thead>\n",
       "  <tbody>\n",
       "    <tr>\n",
       "      <th>0</th>\n",
       "      <td>Absolutely wonderful - silky and sexy and comf...</td>\n",
       "      <td>{'usage': {'text_units': 1, 'text_characters':...</td>\n",
       "      <td>{'score': 0.998302, 'label': 'positive'}</td>\n",
       "      <td>[]</td>\n",
       "    </tr>\n",
       "    <tr>\n",
       "      <th>1</th>\n",
       "      <td>Love this dress!</td>\n",
       "      <td>{'usage': {'text_units': 1, 'text_characters':...</td>\n",
       "      <td>{'score': 0.98905, 'label': 'positive'}</td>\n",
       "      <td>[{'dress': 0.98905}]</td>\n",
       "    </tr>\n",
       "    <tr>\n",
       "      <th>2</th>\n",
       "      <td>it's sooo pretty.</td>\n",
       "      <td>{'usage': {'text_units': 1, 'text_characters':...</td>\n",
       "      <td>{'score': 0.847322, 'label': 'positive'}</td>\n",
       "      <td>[]</td>\n",
       "    </tr>\n",
       "    <tr>\n",
       "      <th>3</th>\n",
       "      <td>and i'm glad i did bc i never would have order...</td>\n",
       "      <td>{'usage': {'text_units': 1, 'text_characters':...</td>\n",
       "      <td>{'score': 0.609134, 'label': 'positive'}</td>\n",
       "      <td>[{'bc': 0.609134}]</td>\n",
       "    </tr>\n",
       "    <tr>\n",
       "      <th>4</th>\n",
       "      <td>i bought a petite and am 5'8\".</td>\n",
       "      <td>{'usage': {'text_units': 1, 'text_characters':...</td>\n",
       "      <td>{'score': 0, 'label': 'neutral'}</td>\n",
       "      <td>[{'petite': 0}]</td>\n",
       "    </tr>\n",
       "    <tr>\n",
       "      <th>5</th>\n",
       "      <td>i love the length on me- hits just a little be...</td>\n",
       "      <td>{'usage': {'text_units': 1, 'text_characters':...</td>\n",
       "      <td>{'score': 0.541206, 'label': 'positive'}</td>\n",
       "      <td>[{'length': 0.541206}, {'knee': 0.541206}, {'h...</td>\n",
       "    </tr>\n",
       "    <tr>\n",
       "      <th>6</th>\n",
       "      <td>would definitely be a true midi on someone who...</td>\n",
       "      <td>{'usage': {'text_units': 1, 'text_characters':...</td>\n",
       "      <td>{'score': 0.850875, 'label': 'positive'}</td>\n",
       "      <td>[{'true midi': 0.850875}]</td>\n",
       "    </tr>\n",
       "    <tr>\n",
       "      <th>7</th>\n",
       "      <td>and really wanted it to work for me.</td>\n",
       "      <td>{'usage': {'text_units': 1, 'text_characters':...</td>\n",
       "      <td>{'score': -0.647791, 'label': 'negative'}</td>\n",
       "      <td>[]</td>\n",
       "    </tr>\n",
       "    <tr>\n",
       "      <th>8</th>\n",
       "      <td>but i found this to be outrageously small.</td>\n",
       "      <td>{'usage': {'text_units': 1, 'text_characters':...</td>\n",
       "      <td>{'score': 0.942911, 'label': 'positive'}</td>\n",
       "      <td>[]</td>\n",
       "    </tr>\n",
       "    <tr>\n",
       "      <th>9</th>\n",
       "      <td>so small in fact that i could not zip it up!</td>\n",
       "      <td>{'usage': {'text_units': 1, 'text_characters':...</td>\n",
       "      <td>{'score': -0.758612, 'label': 'negative'}</td>\n",
       "      <td>[{'fact': -0.758612}]</td>\n",
       "    </tr>\n",
       "  </tbody>\n",
       "</table>\n",
       "</div>"
      ],
      "text/plain": [
       "                                           sentences  \\\n",
       "0  Absolutely wonderful - silky and sexy and comf...   \n",
       "1                                   Love this dress!   \n",
       "2                                  it's sooo pretty.   \n",
       "3  and i'm glad i did bc i never would have order...   \n",
       "4                     i bought a petite and am 5'8\".   \n",
       "5  i love the length on me- hits just a little be...   \n",
       "6  would definitely be a true midi on someone who...   \n",
       "7               and really wanted it to work for me.   \n",
       "8         but i found this to be outrageously small.   \n",
       "9       so small in fact that i could not zip it up!   \n",
       "\n",
       "                              sentiment_keyword_json  \\\n",
       "0  {'usage': {'text_units': 1, 'text_characters':...   \n",
       "1  {'usage': {'text_units': 1, 'text_characters':...   \n",
       "2  {'usage': {'text_units': 1, 'text_characters':...   \n",
       "3  {'usage': {'text_units': 1, 'text_characters':...   \n",
       "4  {'usage': {'text_units': 1, 'text_characters':...   \n",
       "5  {'usage': {'text_units': 1, 'text_characters':...   \n",
       "6  {'usage': {'text_units': 1, 'text_characters':...   \n",
       "7  {'usage': {'text_units': 1, 'text_characters':...   \n",
       "8  {'usage': {'text_units': 1, 'text_characters':...   \n",
       "9  {'usage': {'text_units': 1, 'text_characters':...   \n",
       "\n",
       "                             sentiment_score  \\\n",
       "0   {'score': 0.998302, 'label': 'positive'}   \n",
       "1    {'score': 0.98905, 'label': 'positive'}   \n",
       "2   {'score': 0.847322, 'label': 'positive'}   \n",
       "3   {'score': 0.609134, 'label': 'positive'}   \n",
       "4           {'score': 0, 'label': 'neutral'}   \n",
       "5   {'score': 0.541206, 'label': 'positive'}   \n",
       "6   {'score': 0.850875, 'label': 'positive'}   \n",
       "7  {'score': -0.647791, 'label': 'negative'}   \n",
       "8   {'score': 0.942911, 'label': 'positive'}   \n",
       "9  {'score': -0.758612, 'label': 'negative'}   \n",
       "\n",
       "                                       keyword_score  \n",
       "0                                                 []  \n",
       "1                               [{'dress': 0.98905}]  \n",
       "2                                                 []  \n",
       "3                                 [{'bc': 0.609134}]  \n",
       "4                                    [{'petite': 0}]  \n",
       "5  [{'length': 0.541206}, {'knee': 0.541206}, {'h...  \n",
       "6                          [{'true midi': 0.850875}]  \n",
       "7                                                 []  \n",
       "8                                                 []  \n",
       "9                              [{'fact': -0.758612}]  "
      ]
     },
     "execution_count": 22,
     "metadata": {},
     "output_type": "execute_result"
    }
   ],
   "source": [
    "df2"
   ]
  },
  {
   "cell_type": "code",
   "execution_count": null,
   "metadata": {},
   "outputs": [],
   "source": []
  }
 ],
 "metadata": {
  "kernelspec": {
   "display_name": "Python 3",
   "language": "python",
   "name": "python3"
  },
  "language_info": {
   "codemirror_mode": {
    "name": "ipython",
    "version": 3
   },
   "file_extension": ".py",
   "mimetype": "text/x-python",
   "name": "python",
   "nbconvert_exporter": "python",
   "pygments_lexer": "ipython3",
   "version": "3.8.5"
  }
 },
 "nbformat": 4,
 "nbformat_minor": 4
}
