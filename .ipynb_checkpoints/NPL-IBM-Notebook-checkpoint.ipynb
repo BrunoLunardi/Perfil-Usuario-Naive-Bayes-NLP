{
 "cells": [
  {
   "cell_type": "code",
   "execution_count": 1,
   "metadata": {},
   "outputs": [],
   "source": [
    "################################## Importações para trabalhar com watson IBM ##################################\n",
    "import json\n",
    "from ibm_watson import NaturalLanguageUnderstandingV1\n",
    "from ibm_cloud_sdk_core.authenticators import IAMAuthenticator\n",
    "from ibm_watson.natural_language_understanding_v1 import Features, EmotionOptions, SentimentOptions, KeywordsOptions\n",
    "from ibm_watson import ApiException\n",
    "# from botocore.client import Config\n",
    "# import ibm_boto3\n",
    "\n",
    "################################## Importações ##################################\n",
    "# import types \n",
    "import pandas as pd\n",
    "import re\n",
    "import string\n",
    "\n",
    "#base de dados:\n",
    "#https://www.kaggle.com/tanulsingh077/twitter-sentiment-extaction-analysis-eda-and-model/output?select=submission.csv\n",
    "\n",
    "#teste:\n",
    "#https://natural-language-understanding-demo.ng.bluemix.net/"
   ]
  },
  {
   "cell_type": "code",
   "execution_count": 172,
   "metadata": {},
   "outputs": [],
   "source": [
    "################################## Configurações serviço IBM ##################################\n",
    "#realiza autenticação com servidor IBM\n",
    "authenticator = IAMAuthenticator('LsRvjTiGO2hm5CmMOkYumONXX1x08ej0nZED2cRZYvqM')\n",
    "service = NaturalLanguageUnderstandingV1(\n",
    "    version='2020-08-01',\n",
    "    authenticator=authenticator\n",
    ")\n",
    "\n",
    "# #seleciona o serviço de processamento de linguagem natural\n",
    "service.set_service_url('https://api.us-south.natural-language-understanding.watson.cloud.ibm.com/instances/fe0885df-7c76-4192-9bc8-6c6d7ca836ae')"
   ]
  },
  {
   "cell_type": "code",
   "execution_count": 173,
   "metadata": {},
   "outputs": [],
   "source": [
    "\n",
    "################################## INÍCIO FUNÇÕES ##################################\n",
    "\n",
    "def sentiment_and_emotion(st,service=service):\n",
    "    \"\"\"\n",
    "    Função para fazer requisição com o servidor IBM e obter emoção e sentimento do texto a ser analisado\n",
    "    return: JSON com análises do texto informado\n",
    "    \"\"\"\n",
    "    try:\n",
    "        return (service.analyze(text=st,features=Features(emotion=EmotionOptions(),sentiment=SentimentOptions())).get_result())\n",
    "    except ApiException as ex:\n",
    "        return \"NULL\"\n",
    "    #analisa a emoção do texto contido na variável st\n",
    "    #return (service.analyze(text=st,features=Features(emotion=EmotionOptions())).get_result())\n",
    "    \n",
    "\n",
    "def sentiment_extractor(row_num):\n",
    "    \"\"\"\n",
    "    Função para pegar o score do sentimento e colocar em uma nova coluna dataframe\n",
    "    return: score do sentimento\n",
    "    \"\"\"    \n",
    "    try:\n",
    "        sentiment=filtrado['sentiment_emotion_json'][row_num]['sentiment']['document']['label']\n",
    "        return sentiment\n",
    "    except:\n",
    "        return \"NULL\"\n",
    "################################## FIM FUNÇÕES ##################################"
   ]
  },
  {
   "cell_type": "code",
   "execution_count": 174,
   "metadata": {},
   "outputs": [],
   "source": [
    "def clean_text(text):\n",
    "    \"\"\"\n",
    "    Função para remover caracteres especiais, http...\n",
    "    \"\"\"\n",
    "    text = str(text).lower()\n",
    "    text = str(text).strip()\n",
    "    text = re.sub('\\[.*?\\]', '', text)\n",
    "    text = re.sub('https?://\\S+|www\\.\\S+', '', text)\n",
    "    text = re.sub('<.*?>+', '', text)\n",
    "    text = re.sub('[%s]' % re.escape(string.punctuation), '', text)\n",
    "    text = re.sub('\\n', '', text)\n",
    "    text = re.sub('\\w*\\d\\w*', '', text)  \n",
    "    \n",
    "    return text\n",
    "\n",
    "def emotion_extractor(row_num):\n",
    "    \"\"\"\n",
    "    Função para pegar o score do sentimento e colocar em uma nova coluna dataframe\n",
    "    return: score do sentimento\n",
    "    \"\"\"    \n",
    "    #sentiment_scores=df2['sentiment_keyword_json'][row_num]['sentiment']['document']\n",
    "    try:\n",
    "        dictResult = filtrado['sentiment_emotion_json'][row_num]['emotion']['document']['emotion']\n",
    "        dictResult = [max(dictResult, key=dictResult.get)]\n",
    "        return dictResult[0]\n",
    "    except:\n",
    "        return \"NULL\""
   ]
  },
  {
   "cell_type": "code",
   "execution_count": 175,
   "metadata": {},
   "outputs": [
    {
     "name": "stdout",
     "output_type": "stream",
     "text": [
      "Total de comentários:  3534\n"
     ]
    }
   ],
   "source": [
    "#leitura da base de dados\n",
    "df_data_1 = pd.read_csv('database/databaseCommentsTwitter.csv')\n",
    "#limpeza de caracteres especiais, pontuação, links, trim...\n",
    "df_data_1['selected_text'] = df_data_1['selected_text'].apply(lambda row : clean_text(row))\n",
    "\n",
    "totalComentarios = df_data_1['selected_text'].count()\n",
    "print(\"Total de comentários: \", totalComentarios)"
   ]
  },
  {
   "cell_type": "code",
   "execution_count": 176,
   "metadata": {},
   "outputs": [
    {
     "name": "stdout",
     "output_type": "stream",
     "text": [
      "<class 'pandas.core.frame.DataFrame'>\n"
     ]
    },
    {
     "name": "stderr",
     "output_type": "stream",
     "text": [
      "<ipython-input-176-9daa14734a7f>:8: SettingWithCopyWarning: \n",
      "A value is trying to be set on a copy of a slice from a DataFrame.\n",
      "Try using .loc[row_indexer,col_indexer] = value instead\n",
      "\n",
      "See the caveats in the documentation: https://pandas.pydata.org/pandas-docs/stable/user_guide/indexing.html#returning-a-view-versus-a-copy\n",
      "  df1['sentiment_emotion_json'] = df1.apply(lambda row : sentiment_and_emotion(str(row['selected_text'])),axis = 1)\n"
     ]
    }
   ],
   "source": [
    "################## FIX: CLASSIFICAR TODOS OS DADOS... ##########\n",
    "\n",
    "#requisição com servidor\n",
    "#parâmetros:\n",
    "    #texto\n",
    "    #eixo para adicionar a coluna\n",
    "df1 = df_data_1.head(30)\n",
    "df1['sentiment_emotion_json'] = df1.apply(lambda row : sentiment_and_emotion(str(row['selected_text'])),axis = 1)\n",
    "\n",
    "#df_teste = pd.read_csv('database/testeDadosClassificados.csv')\n",
    "\n",
    "#print(df_teste)"
   ]
  },
  {
   "cell_type": "code",
   "execution_count": 177,
   "metadata": {},
   "outputs": [
    {
     "name": "stderr",
     "output_type": "stream",
     "text": [
      "<ipython-input-177-d75cf66d643f>:2: SettingWithCopyWarning: \n",
      "A value is trying to be set on a copy of a slice from a DataFrame\n",
      "\n",
      "See the caveats in the documentation: https://pandas.pydata.org/pandas-docs/stable/user_guide/indexing.html#returning-a-view-versus-a-copy\n",
      "  df2.dropna(inplace=True)\n"
     ]
    }
   ],
   "source": [
    "df2 = df1[['selected_text','sentiment_emotion_json']]\n",
    "df2.dropna(inplace=True)"
   ]
  },
  {
   "cell_type": "code",
   "execution_count": 178,
   "metadata": {},
   "outputs": [
    {
     "name": "stdout",
     "output_type": "stream",
     "text": [
      "                                        selected_text  \\\n",
      "0                           last session of the day     \n",
      "1                                            exciting   \n",
      "2                                          happy bday   \n",
      "3   and within a short time of the last clue all o...   \n",
      "4   what did you get  my day is alright havent don...   \n",
      "5   my bike was put on holdshould have known that ...   \n",
      "6                             i checked  we didnt win   \n",
      "7    and youre on twitter did the tavern bore you ...   \n",
      "8   i feel like my phones hole is not a virgin tha...   \n",
      "9   im going into a spiritual stagnentation its ex...   \n",
      "10  my dead grandpa pays more attention to me than...   \n",
      "11                               about to go to sleep   \n",
      "12                                      thats so cool   \n",
      "13  hey peoples dont you just hate being grounded ...   \n",
      "14               huh another scarepoint coding sunday   \n",
      "15                  look who i found just for you       \n",
      "16  no ac the fan doesnt swing our way  we are swe...   \n",
      "\n",
      "                               sentiment_emotion_json sentiment  emotion  \n",
      "0   {'usage': {'text_units': 1, 'text_characters':...   neutral  sadness  \n",
      "1   {'usage': {'text_units': 1, 'text_characters':...  positive      joy  \n",
      "2   {'usage': {'text_units': 1, 'text_characters':...  positive      joy  \n",
      "3   {'usage': {'text_units': 1, 'text_characters':...  negative  sadness  \n",
      "4   {'usage': {'text_units': 1, 'text_characters':...  negative  sadness  \n",
      "5   {'usage': {'text_units': 1, 'text_characters':...  negative     fear  \n",
      "6   {'usage': {'text_units': 1, 'text_characters':...  negative      joy  \n",
      "7   {'usage': {'text_units': 1, 'text_characters':...  negative  sadness  \n",
      "8   {'usage': {'text_units': 1, 'text_characters':...  negative  sadness  \n",
      "9   {'usage': {'text_units': 1, 'text_characters':...  positive      joy  \n",
      "10  {'usage': {'text_units': 1, 'text_characters':...  negative  sadness  \n",
      "11  {'usage': {'text_units': 1, 'text_characters':...   neutral     fear  \n",
      "12  {'usage': {'text_units': 1, 'text_characters':...  positive      joy  \n",
      "13  {'usage': {'text_units': 1, 'text_characters':...  negative  sadness  \n",
      "14  {'usage': {'text_units': 1, 'text_characters':...   neutral      joy  \n",
      "15  {'usage': {'text_units': 1, 'text_characters':...  positive      joy  \n",
      "16  {'usage': {'text_units': 1, 'text_characters':...  negative      joy  \n"
     ]
    },
    {
     "name": "stderr",
     "output_type": "stream",
     "text": [
      "<ipython-input-178-bf5bc3d6be94>:6: SettingWithCopyWarning: \n",
      "A value is trying to be set on a copy of a slice from a DataFrame\n",
      "\n",
      "See the caveats in the documentation: https://pandas.pydata.org/pandas-docs/stable/user_guide/indexing.html#returning-a-view-versus-a-copy\n",
      "  filtrado.dropna(inplace=True)\n"
     ]
    }
   ],
   "source": [
    "#obter somente o label\n",
    "#df2['sentiment_emotion_json'][1]['sentiment']['document']['label']\n",
    "#df2['sentiment_keyword_json'][0]['sentiment']\n",
    "\n",
    "filtrado = df2[df2['sentiment_emotion_json'] != 'NULL']\n",
    "filtrado.dropna(inplace=True)\n",
    "filtrado = filtrado.reset_index()\n",
    "filtrado = filtrado.drop(columns=['index'])\n",
    "#print(filtrado['sentiment_emotion_json'][0]['emotion']['document']['emotion'])\n",
    "filtrado['sentiment'] = filtrado.apply(lambda row : sentiment_extractor(row.name),axis = 1)\n",
    "filtrado['emotion'] = filtrado.apply(lambda row : emotion_extractor(row.name),axis = 1)\n",
    "#filtrado2 = filtrado[filtrado['sentiment_emotion_json'] != 'NULL']\n",
    "print(filtrado)\n",
    "\n",
    "#dictTeste = filtrado['sentiment_emotion_json'][0]['emotion']['document']['emotion']\n",
    "#dictTeste = [max(dictTeste, key=dictTeste.get)]\n",
    "#print(dictTeste[0])\n"
   ]
  },
  {
   "cell_type": "code",
   "execution_count": 182,
   "metadata": {},
   "outputs": [],
   "source": [
    "#####salvando dados classificados em csv\n",
    "saveFile = filtrado.drop(columns=['sentiment_emotion_json'])\n",
    "saveFile.to_csv(\"database/testeDadosClassificados.csv\", encoding='utf-8', index=False)"
   ]
  },
  {
   "cell_type": "code",
   "execution_count": 2,
   "metadata": {},
   "outputs": [],
   "source": [
    "readFile = pd.read_csv('database/testeDadosClassificados.csv')"
   ]
  },
  {
   "cell_type": "code",
   "execution_count": 3,
   "metadata": {},
   "outputs": [
    {
     "data": {
      "text/html": [
       "<div>\n",
       "<style scoped>\n",
       "    .dataframe tbody tr th:only-of-type {\n",
       "        vertical-align: middle;\n",
       "    }\n",
       "\n",
       "    .dataframe tbody tr th {\n",
       "        vertical-align: top;\n",
       "    }\n",
       "\n",
       "    .dataframe thead th {\n",
       "        text-align: right;\n",
       "    }\n",
       "</style>\n",
       "<table border=\"1\" class=\"dataframe\">\n",
       "  <thead>\n",
       "    <tr style=\"text-align: right;\">\n",
       "      <th></th>\n",
       "      <th>selected_text</th>\n",
       "      <th>sentiment</th>\n",
       "      <th>emotion</th>\n",
       "    </tr>\n",
       "  </thead>\n",
       "  <tbody>\n",
       "    <tr>\n",
       "      <th>0</th>\n",
       "      <td>last session of the day</td>\n",
       "      <td>neutral</td>\n",
       "      <td>sadness</td>\n",
       "    </tr>\n",
       "    <tr>\n",
       "      <th>1</th>\n",
       "      <td>exciting</td>\n",
       "      <td>positive</td>\n",
       "      <td>joy</td>\n",
       "    </tr>\n",
       "    <tr>\n",
       "      <th>2</th>\n",
       "      <td>happy bday</td>\n",
       "      <td>positive</td>\n",
       "      <td>joy</td>\n",
       "    </tr>\n",
       "    <tr>\n",
       "      <th>3</th>\n",
       "      <td>and within a short time of the last clue all o...</td>\n",
       "      <td>negative</td>\n",
       "      <td>sadness</td>\n",
       "    </tr>\n",
       "    <tr>\n",
       "      <th>4</th>\n",
       "      <td>what did you get  my day is alright havent don...</td>\n",
       "      <td>negative</td>\n",
       "      <td>sadness</td>\n",
       "    </tr>\n",
       "    <tr>\n",
       "      <th>5</th>\n",
       "      <td>my bike was put on holdshould have known that ...</td>\n",
       "      <td>negative</td>\n",
       "      <td>fear</td>\n",
       "    </tr>\n",
       "    <tr>\n",
       "      <th>6</th>\n",
       "      <td>i checked  we didnt win</td>\n",
       "      <td>negative</td>\n",
       "      <td>joy</td>\n",
       "    </tr>\n",
       "    <tr>\n",
       "      <th>7</th>\n",
       "      <td>and youre on twitter did the tavern bore you ...</td>\n",
       "      <td>negative</td>\n",
       "      <td>sadness</td>\n",
       "    </tr>\n",
       "    <tr>\n",
       "      <th>8</th>\n",
       "      <td>i feel like my phones hole is not a virgin tha...</td>\n",
       "      <td>negative</td>\n",
       "      <td>sadness</td>\n",
       "    </tr>\n",
       "    <tr>\n",
       "      <th>9</th>\n",
       "      <td>im going into a spiritual stagnentation its ex...</td>\n",
       "      <td>positive</td>\n",
       "      <td>joy</td>\n",
       "    </tr>\n",
       "    <tr>\n",
       "      <th>10</th>\n",
       "      <td>my dead grandpa pays more attention to me than...</td>\n",
       "      <td>negative</td>\n",
       "      <td>sadness</td>\n",
       "    </tr>\n",
       "    <tr>\n",
       "      <th>11</th>\n",
       "      <td>about to go to sleep</td>\n",
       "      <td>neutral</td>\n",
       "      <td>fear</td>\n",
       "    </tr>\n",
       "    <tr>\n",
       "      <th>12</th>\n",
       "      <td>thats so cool</td>\n",
       "      <td>positive</td>\n",
       "      <td>joy</td>\n",
       "    </tr>\n",
       "    <tr>\n",
       "      <th>13</th>\n",
       "      <td>hey peoples dont you just hate being grounded ...</td>\n",
       "      <td>negative</td>\n",
       "      <td>sadness</td>\n",
       "    </tr>\n",
       "    <tr>\n",
       "      <th>14</th>\n",
       "      <td>huh another scarepoint coding sunday</td>\n",
       "      <td>neutral</td>\n",
       "      <td>joy</td>\n",
       "    </tr>\n",
       "    <tr>\n",
       "      <th>15</th>\n",
       "      <td>look who i found just for you</td>\n",
       "      <td>positive</td>\n",
       "      <td>joy</td>\n",
       "    </tr>\n",
       "    <tr>\n",
       "      <th>16</th>\n",
       "      <td>no ac the fan doesnt swing our way  we are swe...</td>\n",
       "      <td>negative</td>\n",
       "      <td>joy</td>\n",
       "    </tr>\n",
       "  </tbody>\n",
       "</table>\n",
       "</div>"
      ],
      "text/plain": [
       "                                        selected_text sentiment  emotion\n",
       "0                           last session of the day     neutral  sadness\n",
       "1                                            exciting  positive      joy\n",
       "2                                          happy bday  positive      joy\n",
       "3   and within a short time of the last clue all o...  negative  sadness\n",
       "4   what did you get  my day is alright havent don...  negative  sadness\n",
       "5   my bike was put on holdshould have known that ...  negative     fear\n",
       "6                             i checked  we didnt win  negative      joy\n",
       "7    and youre on twitter did the tavern bore you ...  negative  sadness\n",
       "8   i feel like my phones hole is not a virgin tha...  negative  sadness\n",
       "9   im going into a spiritual stagnentation its ex...  positive      joy\n",
       "10  my dead grandpa pays more attention to me than...  negative  sadness\n",
       "11                               about to go to sleep   neutral     fear\n",
       "12                                      thats so cool  positive      joy\n",
       "13  hey peoples dont you just hate being grounded ...  negative  sadness\n",
       "14               huh another scarepoint coding sunday   neutral      joy\n",
       "15                  look who i found just for you      positive      joy\n",
       "16  no ac the fan doesnt swing our way  we are swe...  negative      joy"
      ]
     },
     "execution_count": 3,
     "metadata": {},
     "output_type": "execute_result"
    }
   ],
   "source": [
    "readFile"
   ]
  },
  {
   "cell_type": "code",
   "execution_count": null,
   "metadata": {},
   "outputs": [],
   "source": []
  }
 ],
 "metadata": {
  "kernelspec": {
   "display_name": "Python 3",
   "language": "python",
   "name": "python3"
  },
  "language_info": {
   "codemirror_mode": {
    "name": "ipython",
    "version": 3
   },
   "file_extension": ".py",
   "mimetype": "text/x-python",
   "name": "python",
   "nbconvert_exporter": "python",
   "pygments_lexer": "ipython3",
   "version": "3.8.5"
  }
 },
 "nbformat": 4,
 "nbformat_minor": 4
}
